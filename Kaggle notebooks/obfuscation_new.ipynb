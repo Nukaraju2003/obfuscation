{
  "cells": [
    {
      "cell_type": "markdown",
      "metadata": {
        "id": "GH5myXD9aeUr"
      },
      "source": [
        "### Prepare Your Model\n",
        "Ensure the model is trained and saved in an HDF5 format. Load the model using Tensorflow/Keras"
      ]
    },
    {
      "cell_type": "code",
      "execution_count": 2,
      "metadata": {},
      "outputs": [
        {
          "name": "stdout",
          "output_type": "stream",
          "text": [
            "Requirement already satisfied: tensorflow in c:\\users\\venkatesh\\anaconda3\\lib\\site-packages (from -r requirements.txt (line 1)) (2.17.0)Note: you may need to restart the kernel to use updated packages.\n",
            "\n",
            "Requirement already satisfied: keras in c:\\users\\venkatesh\\anaconda3\\lib\\site-packages (from -r requirements.txt (line 2)) (3.4.1)\n",
            "Requirement already satisfied: tensorflow-intel==2.17.0 in c:\\users\\venkatesh\\anaconda3\\lib\\site-packages (from tensorflow->-r requirements.txt (line 1)) (2.17.0)\n",
            "Requirement already satisfied: absl-py>=1.0.0 in c:\\users\\venkatesh\\anaconda3\\lib\\site-packages (from tensorflow-intel==2.17.0->tensorflow->-r requirements.txt (line 1)) (2.1.0)\n",
            "Requirement already satisfied: astunparse>=1.6.0 in c:\\users\\venkatesh\\anaconda3\\lib\\site-packages (from tensorflow-intel==2.17.0->tensorflow->-r requirements.txt (line 1)) (1.6.3)\n",
            "Requirement already satisfied: flatbuffers>=24.3.25 in c:\\users\\venkatesh\\anaconda3\\lib\\site-packages (from tensorflow-intel==2.17.0->tensorflow->-r requirements.txt (line 1)) (24.3.25)\n",
            "Requirement already satisfied: gast!=0.5.0,!=0.5.1,!=0.5.2,>=0.2.1 in c:\\users\\venkatesh\\anaconda3\\lib\\site-packages (from tensorflow-intel==2.17.0->tensorflow->-r requirements.txt (line 1)) (0.6.0)\n",
            "Requirement already satisfied: google-pasta>=0.1.1 in c:\\users\\venkatesh\\anaconda3\\lib\\site-packages (from tensorflow-intel==2.17.0->tensorflow->-r requirements.txt (line 1)) (0.2.0)\n",
            "Requirement already satisfied: h5py>=3.10.0 in c:\\users\\venkatesh\\anaconda3\\lib\\site-packages (from tensorflow-intel==2.17.0->tensorflow->-r requirements.txt (line 1)) (3.11.0)\n",
            "Requirement already satisfied: libclang>=13.0.0 in c:\\users\\venkatesh\\anaconda3\\lib\\site-packages (from tensorflow-intel==2.17.0->tensorflow->-r requirements.txt (line 1)) (18.1.1)\n",
            "Requirement already satisfied: ml-dtypes<0.5.0,>=0.3.1 in c:\\users\\venkatesh\\anaconda3\\lib\\site-packages (from tensorflow-intel==2.17.0->tensorflow->-r requirements.txt (line 1)) (0.4.0)\n",
            "Requirement already satisfied: opt-einsum>=2.3.2 in c:\\users\\venkatesh\\anaconda3\\lib\\site-packages (from tensorflow-intel==2.17.0->tensorflow->-r requirements.txt (line 1)) (3.3.0)\n",
            "Requirement already satisfied: packaging in c:\\users\\venkatesh\\appdata\\roaming\\python\\python311\\site-packages (from tensorflow-intel==2.17.0->tensorflow->-r requirements.txt (line 1)) (23.2)\n",
            "Requirement already satisfied: protobuf!=4.21.0,!=4.21.1,!=4.21.2,!=4.21.3,!=4.21.4,!=4.21.5,<5.0.0dev,>=3.20.3 in c:\\users\\venkatesh\\anaconda3\\lib\\site-packages (from tensorflow-intel==2.17.0->tensorflow->-r requirements.txt (line 1)) (3.20.3)\n",
            "Requirement already satisfied: requests<3,>=2.21.0 in c:\\users\\venkatesh\\anaconda3\\lib\\site-packages (from tensorflow-intel==2.17.0->tensorflow->-r requirements.txt (line 1)) (2.31.0)\n",
            "Requirement already satisfied: setuptools in c:\\users\\venkatesh\\anaconda3\\lib\\site-packages (from tensorflow-intel==2.17.0->tensorflow->-r requirements.txt (line 1)) (68.2.2)\n",
            "Requirement already satisfied: six>=1.12.0 in c:\\users\\venkatesh\\appdata\\roaming\\python\\python311\\site-packages (from tensorflow-intel==2.17.0->tensorflow->-r requirements.txt (line 1)) (1.16.0)\n",
            "Requirement already satisfied: termcolor>=1.1.0 in c:\\users\\venkatesh\\anaconda3\\lib\\site-packages (from tensorflow-intel==2.17.0->tensorflow->-r requirements.txt (line 1)) (2.4.0)\n",
            "Requirement already satisfied: typing-extensions>=3.6.6 in c:\\users\\venkatesh\\anaconda3\\lib\\site-packages (from tensorflow-intel==2.17.0->tensorflow->-r requirements.txt (line 1)) (4.9.0)\n",
            "Requirement already satisfied: wrapt>=1.11.0 in c:\\users\\venkatesh\\anaconda3\\lib\\site-packages (from tensorflow-intel==2.17.0->tensorflow->-r requirements.txt (line 1)) (1.14.1)\n",
            "Requirement already satisfied: grpcio<2.0,>=1.24.3 in c:\\users\\venkatesh\\anaconda3\\lib\\site-packages (from tensorflow-intel==2.17.0->tensorflow->-r requirements.txt (line 1)) (1.65.1)\n",
            "Requirement already satisfied: tensorboard<2.18,>=2.17 in c:\\users\\venkatesh\\anaconda3\\lib\\site-packages (from tensorflow-intel==2.17.0->tensorflow->-r requirements.txt (line 1)) (2.17.0)\n",
            "Requirement already satisfied: tensorflow-io-gcs-filesystem>=0.23.1 in c:\\users\\venkatesh\\anaconda3\\lib\\site-packages (from tensorflow-intel==2.17.0->tensorflow->-r requirements.txt (line 1)) (0.31.0)\n",
            "Requirement already satisfied: numpy<2.0.0,>=1.23.5 in c:\\users\\venkatesh\\anaconda3\\lib\\site-packages (from tensorflow-intel==2.17.0->tensorflow->-r requirements.txt (line 1)) (1.26.4)\n",
            "Requirement already satisfied: rich in c:\\users\\venkatesh\\anaconda3\\lib\\site-packages (from keras->-r requirements.txt (line 2)) (13.3.5)\n",
            "Requirement already satisfied: namex in c:\\users\\venkatesh\\anaconda3\\lib\\site-packages (from keras->-r requirements.txt (line 2)) (0.0.8)\n",
            "Requirement already satisfied: optree in c:\\users\\venkatesh\\anaconda3\\lib\\site-packages (from keras->-r requirements.txt (line 2)) (0.12.1)\n",
            "Requirement already satisfied: markdown-it-py<3.0.0,>=2.2.0 in c:\\users\\venkatesh\\anaconda3\\lib\\site-packages (from rich->keras->-r requirements.txt (line 2)) (2.2.0)\n",
            "Requirement already satisfied: pygments<3.0.0,>=2.13.0 in c:\\users\\venkatesh\\appdata\\roaming\\python\\python311\\site-packages (from rich->keras->-r requirements.txt (line 2)) (2.17.2)\n",
            "Requirement already satisfied: wheel<1.0,>=0.23.0 in c:\\users\\venkatesh\\anaconda3\\lib\\site-packages (from astunparse>=1.6.0->tensorflow-intel==2.17.0->tensorflow->-r requirements.txt (line 1)) (0.41.2)\n",
            "Requirement already satisfied: mdurl~=0.1 in c:\\users\\venkatesh\\anaconda3\\lib\\site-packages (from markdown-it-py<3.0.0,>=2.2.0->rich->keras->-r requirements.txt (line 2)) (0.1.0)\n",
            "Requirement already satisfied: charset-normalizer<4,>=2 in c:\\users\\venkatesh\\anaconda3\\lib\\site-packages (from requests<3,>=2.21.0->tensorflow-intel==2.17.0->tensorflow->-r requirements.txt (line 1)) (2.0.4)\n",
            "Requirement already satisfied: idna<4,>=2.5 in c:\\users\\venkatesh\\anaconda3\\lib\\site-packages (from requests<3,>=2.21.0->tensorflow-intel==2.17.0->tensorflow->-r requirements.txt (line 1)) (3.4)\n",
            "Requirement already satisfied: urllib3<3,>=1.21.1 in c:\\users\\venkatesh\\anaconda3\\lib\\site-packages (from requests<3,>=2.21.0->tensorflow-intel==2.17.0->tensorflow->-r requirements.txt (line 1)) (2.0.7)\n",
            "Requirement already satisfied: certifi>=2017.4.17 in c:\\users\\venkatesh\\anaconda3\\lib\\site-packages (from requests<3,>=2.21.0->tensorflow-intel==2.17.0->tensorflow->-r requirements.txt (line 1)) (2024.2.2)\n",
            "Requirement already satisfied: markdown>=2.6.8 in c:\\users\\venkatesh\\anaconda3\\lib\\site-packages (from tensorboard<2.18,>=2.17->tensorflow-intel==2.17.0->tensorflow->-r requirements.txt (line 1)) (3.4.1)\n",
            "Requirement already satisfied: tensorboard-data-server<0.8.0,>=0.7.0 in c:\\users\\venkatesh\\anaconda3\\lib\\site-packages (from tensorboard<2.18,>=2.17->tensorflow-intel==2.17.0->tensorflow->-r requirements.txt (line 1)) (0.7.2)\n",
            "Requirement already satisfied: werkzeug>=1.0.1 in c:\\users\\venkatesh\\anaconda3\\lib\\site-packages (from tensorboard<2.18,>=2.17->tensorflow-intel==2.17.0->tensorflow->-r requirements.txt (line 1)) (2.2.3)\n",
            "Requirement already satisfied: MarkupSafe>=2.1.1 in c:\\users\\venkatesh\\anaconda3\\lib\\site-packages (from werkzeug>=1.0.1->tensorboard<2.18,>=2.17->tensorflow-intel==2.17.0->tensorflow->-r requirements.txt (line 1)) (2.1.3)\n"
          ]
        }
      ],
      "source": [
        "%pip install -r requirements.txt"
      ]
    },
    {
      "cell_type": "code",
      "execution_count": 3,
      "metadata": {
        "id": "sPyWY8hwY0qM"
      },
      "outputs": [
        {
          "name": "stderr",
          "output_type": "stream",
          "text": [
            "WARNING:absl:Compiled the loaded model, but the compiled metrics have yet to be built. `model.compile_metrics` will be empty until you train or evaluate the model.\n"
          ]
        }
      ],
      "source": [
        "import tensorflow as tf\n",
        "from tensorflow.keras.models import load_model\n",
        "\n",
        "# Load the trained model\n",
        "model_path = 'trymodel.h5'\n",
        "model = load_model(model_path)\n"
      ]
    },
    {
      "cell_type": "markdown",
      "metadata": {
        "id": "iDVF7U3Cajna"
      },
      "source": [
        "### Step 2: Extract Model Information\n",
        "\n",
        "Extract layer structures, names, configurations, and weights, and represent this information in a JSON format"
      ]
    },
    {
      "cell_type": "code",
      "execution_count": 4,
      "metadata": {
        "id": "FX8PfYvHaMn6"
      },
      "outputs": [],
      "source": [
        "import json\n",
        "import numpy as np\n",
        "\n",
        "def extract_model_info(model):\n",
        "    model_info = {\n",
        "        'layers': []\n",
        "    }\n",
        "    for layer in model.layers:\n",
        "        layer_info = {\n",
        "            'name': layer.name,\n",
        "            'class_name': layer.__class__.__name__,\n",
        "            'config': layer.get_config(),\n",
        "            'weights': [w.tolist() for w in layer.get_weights()]\n",
        "        }\n",
        "        model_info['layers'].append(layer_info)\n",
        "    return model_info\n",
        "\n",
        "# Assuming `model` is already defined and loaded\n",
        "model_info = extract_model_info(model)\n",
        "\n",
        "# Save model information to a JSON file\n",
        "with open('model_info.json', 'w') as f:\n",
        "    json.dump(model_info, f, indent=4)\n"
      ]
    },
    {
      "cell_type": "markdown",
      "metadata": {
        "id": "kxvVqM4Gap1q"
      },
      "source": [
        "### Apply Obfuscation Strategies\n",
        "Renaming Layers"
      ]
    },
    {
      "cell_type": "code",
      "execution_count": 5,
      "metadata": {
        "id": "Jc_NrUxMaO6z"
      },
      "outputs": [],
      "source": [
        "import random\n",
        "import string\n",
        "\n",
        "def random_string(length=10):\n",
        "    return ''.join(random.choices(string.ascii_letters + string.digits, k=length))\n",
        "\n",
        "def obfuscate_layer_names(model_info):\n",
        "    for layer in model_info['layers']:\n",
        "        layer['name'] = random_string()\n",
        "    return model_info\n",
        "\n",
        "model_info = obfuscate_layer_names(model_info)\n"
      ]
    },
    {
      "cell_type": "markdown",
      "metadata": {
        "id": "MxEjc47NaxKl"
      },
      "source": [
        "### Parameter Encapsulation"
      ]
    },
    {
      "cell_type": "code",
      "execution_count": 6,
      "metadata": {
        "id": "mhjz-BWnaQlQ"
      },
      "outputs": [],
      "source": [
        "# def encapsulate_parameters(model_info):\n",
        "#     for layer in model_info['layers']:\n",
        "#         layer['weights'] = [weights.tolist() for weights in layer['weights']]\n",
        "#     return model_info\n",
        "\n",
        "# model_info = encapsulate_parameters(model_info)\n",
        "\n",
        "import numpy as np\n",
        "\n",
        "def encapsulate_parameters(model_info):\n",
        "    for layer in model_info['layers']:\n",
        "        layer['weights'] = [weights.tolist() if isinstance(weights, np.ndarray) else weights for weights in layer['weights']]\n",
        "    return model_info\n",
        "\n",
        "# # Example usage\n",
        "# model_info = {\n",
        "#     'layers': [\n",
        "#         {'weights': [np.array([1, 2, 3]), np.array([4, 5, 6])]},\n",
        "#         {'weights': [np.array([7, 8, 9]), [10, 11, 12]]}  # Mixed with a list\n",
        "#     ]\n",
        "# }\n",
        "\n",
        "model_info = encapsulate_parameters(model_info)\n",
        "# print(model_info)\n"
      ]
    },
    {
      "cell_type": "markdown",
      "metadata": {
        "id": "WJWIQZIWa2cx"
      },
      "source": [
        "### Neural Structure Obfuscation\n",
        "- Shortcut Injection"
      ]
    },
    {
      "cell_type": "code",
      "execution_count": 7,
      "metadata": {
        "id": "6yZ522XtaSXS"
      },
      "outputs": [],
      "source": [
        "from tensorflow.keras.layers import Add\n",
        "\n",
        "def add_shortcuts(model_info):\n",
        "    # Example: Add shortcuts after every layer (this is just a simplified example)\n",
        "    for i in range(len(model_info['layers']) - 1):\n",
        "        shortcut_layer = {\n",
        "            'name': random_string(),\n",
        "            'class_name': 'Add',\n",
        "            'config': {},\n",
        "            'weights': []\n",
        "        }\n",
        "        model_info['layers'].insert(i + 1, shortcut_layer)\n",
        "    return model_info\n",
        "\n",
        "model_info = add_shortcuts(model_info)\n"
      ]
    },
    {
      "cell_type": "markdown",
      "metadata": {
        "id": "NTN-o7l_bA9X"
      },
      "source": [
        "### Extra Layer Injection"
      ]
    },
    {
      "cell_type": "code",
      "execution_count": 8,
      "metadata": {
        "id": "SrRfQ-BlaVa3"
      },
      "outputs": [],
      "source": [
        "from tensorflow.keras.layers import Dense\n",
        "\n",
        "def inject_extra_layers(model_info):\n",
        "    # Example: Inject a Dense layer with random units after every layer\n",
        "    for i in range(len(model_info['layers']) - 1):\n",
        "        extra_layer = {\n",
        "            'name': random_string(),\n",
        "            'class_name': 'Dense',\n",
        "            'config': {'units': random.randint(1, 100), 'activation': 'relu'},\n",
        "            'weights': []\n",
        "        }\n",
        "        model_info['layers'].insert(i + 1, extra_layer)\n",
        "    return model_info\n",
        "\n",
        "model_info = inject_extra_layers(model_info)\n"
      ]
    },
    {
      "cell_type": "markdown",
      "metadata": {
        "id": "7rbigHh7bIkD"
      },
      "source": [
        "### Step 4: Recompile and Assemble\n",
        "Rebuild the model using the obfuscated information"
      ]
    },
    {
      "cell_type": "code",
      "execution_count": null,
      "metadata": {
        "id": "-NiEDLAwaXLz"
      },
      "outputs": [],
      "source": [
        "from tensorflow.keras.models import Model\n",
        "from tensorflow.keras.layers import Input, Layer\n",
        "\n",
        "def build_obfuscated_model(model_info):\n",
        "    input_layer = Input(shape=model.input_shape[1:])\n",
        "    x = input_layer\n",
        "    layer_dict = {}\n",
        "\n",
        "    for layer_info in model_info['layers']:\n",
        "        LayerClass = getattr(tf.keras.layers, layer_info['class_name'])\n",
        "        if layer_info['class_name'] == 'Add':\n",
        "            x = Add()([x, layer_dict[layer_info['name']]])\n",
        "        else:\n",
        "            x = LayerClass(**layer_info['config'])(x)\n",
        "            layer_dict[layer_info['name']] = x\n",
        "\n",
        "    obfuscated_model = Model(inputs=input_layer, outputs=x)\n",
        "    return obfuscated_model\n",
        "\n",
        "obfuscated_model = build_obfuscated_model(model_info)\n",
        "obfuscated_model.compile(optimizer='adam', loss='sparse_categorical_crossentropy', metrics=['accuracy'])\n"
      ]
    },
    {
      "cell_type": "markdown",
      "metadata": {
        "id": "7OiDCy4YbOkT"
      },
      "source": [
        "### Test and Deploy\n",
        "Test the obfuscated model to ensure it functions correctly"
      ]
    },
    {
      "cell_type": "code",
      "execution_count": null,
      "metadata": {
        "id": "Un56q7MTaZaF"
      },
      "outputs": [],
      "source": [
        "# Assuming you have test data\n",
        "test_data, test_labels = load_test_data()\n",
        "\n",
        "# Evaluate the obfuscated model\n",
        "loss, accuracy = obfuscated_model.evaluate(test_data, test_labels)\n",
        "print(f'Obfuscated Model Accuracy: {accuracy * 100:.2f}%')\n",
        "\n",
        "# Save the obfuscated model\n",
        "obfuscated_model.save('path/to/obfuscated_model.h5')\n"
      ]
    }
  ],
  "metadata": {
    "colab": {
      "collapsed_sections": [
        "Li5203JlctKv"
      ],
      "provenance": []
    },
    "kernelspec": {
      "display_name": "Python 3",
      "name": "python3"
    },
    "language_info": {
      "codemirror_mode": {
        "name": "ipython",
        "version": 3
      },
      "file_extension": ".py",
      "mimetype": "text/x-python",
      "name": "python",
      "nbconvert_exporter": "python",
      "pygments_lexer": "ipython3",
      "version": "3.11.7"
    }
  },
  "nbformat": 4,
  "nbformat_minor": 0
}
